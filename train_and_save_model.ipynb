{
 "cells": [
  {
   "cell_type": "code",
   "execution_count": 10,
   "metadata": {},
   "outputs": [],
   "source": [
    "%%bash\n",
    "# https://stackoverflow.com/questions/4944295/skip-download-if-files-already-exist-in-wget\n",
    "# other option: -N (only download newer files)\n",
    "\n",
    "# download dreambooth training scripts\n",
    "wget -nc -q -P train_scripts/dreambooth https://github.com/huggingface/diffusers/raw/main/scripts/convert_diffusers_to_original_stable_diffusion.py\n",
    "wget -nc -q -P train_scripts/dreambooth https://github.com/huggingface/diffusers/raw/main/examples/dreambooth/train_dreambooth.py\n",
    "wget -nc -q -P train_scripts/dreambooth https://github.com/huggingface/diffusers/raw/main/examples/dreambooth/train_dreambooth_flax.py\n",
    "wget -nc -q -P train_scripts/dreambooth https://github.com/huggingface/diffusers/raw/main/examples/dreambooth/train_dreambooth_lora.py\n",
    "wget -nc -q -P train_scripts/dreambooth https://github.com/huggingface/diffusers/raw/main/examples/dreambooth/requirements.txt\n",
    "wget -nc -q -P train_scripts/dreambooth https://github.com/huggingface/diffusers/raw/main/examples/dreambooth/requirements_flax.txt\n",
    "\n",
    "# download custom diffusion training scripts\n",
    "wget -nc -q -P train_scripts/custom_diffusion https://github.com/huggingface/diffusers/raw/main/examples/custom_diffusion/requirements.txt\n",
    "wget -nc -q -P train_scripts/custom_diffusion https://github.com/huggingface/diffusers/raw/main/examples/custom_diffusion/retrieve.py\n",
    "wget -nc -q -P train_scripts/custom_diffusion https://github.com/huggingface/diffusers/raw/main/examples/custom_diffusion/train_custom_diffusion.py\n",
    "\n",
    "# install reqs for dreambooth training\n",
    "pip install -r train_scripts/dreambooth/requirements.txt\n",
    "\n",
    "# install reqs for custom diffusion training\n",
    "pip install -r train_scripts/custom_diffusion/requirements.txt\n",
    "pip install clip-retrieval"
   ]
  }
 ],
 "metadata": {
  "kernelspec": {
   "display_name": "seminar",
   "language": "python",
   "name": "python3"
  },
  "language_info": {
   "codemirror_mode": {
    "name": "ipython",
    "version": 3
   },
   "file_extension": ".py",
   "mimetype": "text/x-python",
   "name": "python",
   "nbconvert_exporter": "python",
   "pygments_lexer": "ipython3",
   "version": "3.6.13"
  },
  "orig_nbformat": 4
 },
 "nbformat": 4,
 "nbformat_minor": 2
}
